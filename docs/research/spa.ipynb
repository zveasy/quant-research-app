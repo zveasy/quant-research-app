{
 "cells": [
  {
   "cell_type": "markdown",
   "metadata": {},
   "source": [
    "# SPA Reality-Check\n",
    "This notebook demonstrates running the Superior Predictive Ability (SPA) test on a backtest returns series."
   ]
  },
  {
   "cell_type": "code",
   "execution_count": null,
   "metadata": {},
   "outputs": [],
   "source": [
    "from pathlib import Path\n",
    "import pandas as pd\n",
    "from research.spa import spa_p_value\n",
    "\n",
    "returns_path = Path('backtests/sample.parquet')\n",
    "df = pd.read_parquet(returns_path) if returns_path.exists() else None\n",
    "if df is None:\n",
    "    print('No sample parquet found; generate synthetic returns')\n",
    "    import numpy as np\n",
    "    rs = np.random.RandomState(123)\n",
    "    df = pd.DataFrame({'returns': rs.normal(loc=0.001, scale=0.01, size=252)})\n",
    "p_val = spa_p_value(df['returns'].values)\n",
    "print(f'SPA p-value: {p_val:.4f}')"
   ]
  }
 ],
 "metadata": {
  "kernelspec": {
   "display_name": "Python 3",
   "language": "python",
   "name": "python3"
  },
  "language_info": {
   "name": "python",
   "version": "3.x"
  }
 },
 "nbformat": 4,
 "nbformat_minor": 5
}
